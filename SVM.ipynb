{
 "cells": [
  {
   "cell_type": "code",
   "execution_count": 1,
   "metadata": {},
   "outputs": [],
   "source": [
    "import scipy.io\n",
    "from sklearn import svm\n",
    "import os\n",
    "import pandas as pd\n",
    "import numpy as np\n",
    "from mat4py import loadmat\n",
    "from sklearn import svm \n",
    "import time \n",
    "from sklearn.metrics import confusion_matrix"
   ]
  },
  {
   "cell_type": "code",
   "execution_count": 2,
   "metadata": {},
   "outputs": [],
   "source": [
    "mydir = 'dataset'"
   ]
  },
  {
   "cell_type": "code",
   "execution_count": 3,
   "metadata": {},
   "outputs": [],
   "source": [
    "code = pd.read_csv(os.path.join(mydir, \"S1_code.csv\"), header = None) \n",
    "x = pd.read_csv(os.path.join(mydir, \"S1_x.csv\"), header = None) \n",
    "y = pd.read_csv(os.path.join(mydir, \"S1_y.csv\"), header = None) "
   ]
  },
  {
   "cell_type": "code",
   "execution_count": 4,
   "metadata": {},
   "outputs": [],
   "source": [
    "codeNew = pd.read_csv(os.path.join(mydir, \"S19_code.csv\"), header = None) \n",
    "xNew = pd.read_csv(os.path.join(mydir, \"S19_x.csv\"), header = None) \n",
    "yNew = pd.read_csv(os.path.join(mydir, \"S19_y.csv\"), header = None) "
   ]
  },
  {
   "cell_type": "markdown",
   "metadata": {},
   "source": [
    "# SVM\n",
    "## RBF default kernel"
   ]
  },
  {
   "cell_type": "code",
   "execution_count": 5,
   "metadata": {},
   "outputs": [
    {
     "name": "stdout",
     "output_type": "stream",
     "text": [
      "Training time: 0.6559848785400391s\n"
     ]
    }
   ],
   "source": [
    "start = time.time() \n",
    "mysvm = svm.SVC()\n",
    "mysvm.fit(x, y.values.ravel())\n",
    "stop = time.time()\n",
    "print(f\"Training time: {stop - start}s\")"
   ]
  },
  {
   "cell_type": "code",
   "execution_count": 6,
   "metadata": {},
   "outputs": [
    {
     "name": "stdout",
     "output_type": "stream",
     "text": [
      "tp: 3\n",
      "fp: 0\n",
      "tn: 2400\n",
      "fn: 477\n"
     ]
    },
    {
     "data": {
      "text/plain": [
       "0.834375"
      ]
     },
     "execution_count": 6,
     "metadata": {},
     "output_type": "execute_result"
    }
   ],
   "source": [
    "predictedSVM = mysvm.predict(x)\n",
    "[[tn, fp],[fn, tp]] = confusion_matrix(y.values.ravel(), predictedSVM)\n",
    "print(f\"tp: {tp}\") \n",
    "print(f\"fp: {fp}\")\n",
    "print(f\"tn: {tn}\") \n",
    "print(f\"fn: {fn}\") \n",
    "accuracySVM = (tp+tn)/(tp+tn+fp+fn)\n",
    "accuracySVM"
   ]
  },
  {
   "cell_type": "code",
   "execution_count": 7,
   "metadata": {},
   "outputs": [
    {
     "name": "stdout",
     "output_type": "stream",
     "text": [
      "tp: 2\n",
      "fp: 0\n",
      "tn: 2400\n",
      "fn: 478\n"
     ]
    },
    {
     "data": {
      "text/plain": [
       "0.8340277777777778"
      ]
     },
     "execution_count": 7,
     "metadata": {},
     "output_type": "execute_result"
    }
   ],
   "source": [
    "predictedSVM = mysvm.predict(xNew)\n",
    "[[tn, fp],[fn, tp]] = confusion_matrix(yNew.values.ravel(), predictedSVM)\n",
    "print(f\"tp: {tp}\") \n",
    "print(f\"fp: {fp}\")\n",
    "print(f\"tn: {tn}\") \n",
    "print(f\"fn: {fn}\") \n",
    "accuracySvmRbf = (tp+tn)/(tp+tn+fp+fn)\n",
    "accuracySvmRbf"
   ]
  },
  {
   "cell_type": "code",
   "execution_count": 8,
   "metadata": {},
   "outputs": [
    {
     "data": {
      "text/plain": [
       "array([-1.04249994, -0.97663928, -1.01059643, ..., -1.05329069,\n",
       "       -1.0336933 , -0.99264511])"
      ]
     },
     "execution_count": 8,
     "metadata": {},
     "output_type": "execute_result"
    }
   ],
   "source": [
    "mysvm.decision_function(x)"
   ]
  },
  {
   "cell_type": "markdown",
   "metadata": {},
   "source": [
    "## SVM with polynomial kernel\n",
    "### Degree = 2"
   ]
  },
  {
   "cell_type": "code",
   "execution_count": 9,
   "metadata": {},
   "outputs": [
    {
     "name": "stdout",
     "output_type": "stream",
     "text": [
      "Training time: 1.0357699394226074s\n"
     ]
    }
   ],
   "source": [
    "start = time.time() \n",
    "svmPoly2 = svm.SVC(kernel='poly', degree=2)\n",
    "svmPoly2.fit(x, y.values.ravel())\n",
    "stop = time.time()\n",
    "print(f\"Training time: {stop - start}s\")"
   ]
  },
  {
   "cell_type": "code",
   "execution_count": 10,
   "metadata": {},
   "outputs": [
    {
     "name": "stdout",
     "output_type": "stream",
     "text": [
      "tp: 4\n",
      "fp: 0\n",
      "tn: 2400\n",
      "fn: 476\n"
     ]
    },
    {
     "data": {
      "text/plain": [
       "0.8347222222222223"
      ]
     },
     "execution_count": 10,
     "metadata": {},
     "output_type": "execute_result"
    }
   ],
   "source": [
    "predictedSvmPoly2 = svmPoly2.predict(x)\n",
    "[[tn, fp],[fn, tp]] = confusion_matrix(y.values.ravel(), predictedSvmPoly2)\n",
    "print(f\"tp: {tp}\") \n",
    "print(f\"fp: {fp}\")\n",
    "print(f\"tn: {tn}\") \n",
    "print(f\"fn: {fn}\") \n",
    "accuracySvmPoly2 = (tp+tn)/(tp+tn+fp+fn)\n",
    "accuracySvmPoly2"
   ]
  },
  {
   "cell_type": "code",
   "execution_count": 11,
   "metadata": {},
   "outputs": [
    {
     "name": "stdout",
     "output_type": "stream",
     "text": [
      "tp: 3\n",
      "fp: 0\n",
      "tn: 2400\n",
      "fn: 477\n"
     ]
    },
    {
     "data": {
      "text/plain": [
       "0.834375"
      ]
     },
     "execution_count": 11,
     "metadata": {},
     "output_type": "execute_result"
    }
   ],
   "source": [
    " predictedSvmPoly2 = svmPoly2.predict(xNew)\n",
    "[[tn, fp],[fn, tp]] = confusion_matrix(yNew.values.ravel(), predictedSvmPoly2)\n",
    "print(f\"tp: {tp}\") \n",
    "print(f\"fp: {fp}\")\n",
    "print(f\"tn: {tn}\") \n",
    "print(f\"fn: {fn}\") \n",
    "accuracySvmPoly2 = (tp+tn)/(tp+tn+fp+fn)\n",
    "accuracySvmPoly2"
   ]
  },
  {
   "cell_type": "markdown",
   "metadata": {},
   "source": [
    "### Polynomial with degree 5"
   ]
  },
  {
   "cell_type": "code",
   "execution_count": 12,
   "metadata": {},
   "outputs": [
    {
     "name": "stdout",
     "output_type": "stream",
     "text": [
      "Training time: 1.9832391738891602s\n"
     ]
    }
   ],
   "source": [
    "start = time.time() \n",
    "svmPoly5 = svm.SVC(kernel='poly', degree=5)\n",
    "svmPoly5.fit(x, y.values.ravel())\n",
    "stop = time.time()\n",
    "print(f\"Training time: {stop - start}s\")"
   ]
  },
  {
   "cell_type": "code",
   "execution_count": 13,
   "metadata": {},
   "outputs": [
    {
     "name": "stdout",
     "output_type": "stream",
     "text": [
      "tp: 30\n",
      "fp: 0\n",
      "tn: 2400\n",
      "fn: 450\n"
     ]
    },
    {
     "data": {
      "text/plain": [
       "0.84375"
      ]
     },
     "execution_count": 13,
     "metadata": {},
     "output_type": "execute_result"
    }
   ],
   "source": [
    "predictedSvmPoly5 = svmPoly5.predict(x)\n",
    "[[tn, fp],[fn, tp]] = confusion_matrix(y.values.ravel(), predictedSvmPoly5)\n",
    "print(f\"tp: {tp}\") \n",
    "print(f\"fp: {fp}\")\n",
    "print(f\"tn: {tn}\") \n",
    "print(f\"fn: {fn}\") \n",
    "accuracySvmPoly5 = (tp+tn)/(tp+tn+fp+fn)\n",
    "accuracySvmPoly5"
   ]
  },
  {
   "cell_type": "code",
   "execution_count": 14,
   "metadata": {},
   "outputs": [
    {
     "name": "stdout",
     "output_type": "stream",
     "text": [
      "tp: 16\n",
      "fp: 22\n",
      "tn: 2378\n",
      "fn: 464\n"
     ]
    },
    {
     "data": {
      "text/plain": [
       "0.83125"
      ]
     },
     "execution_count": 14,
     "metadata": {},
     "output_type": "execute_result"
    }
   ],
   "source": [
    "predictedSvmPoly5 = svmPoly5.predict(xNew)\n",
    "[[tn, fp],[fn, tp]] = confusion_matrix(yNew.values.ravel(), predictedSvmPoly5)\n",
    "print(f\"tp: {tp}\") \n",
    "print(f\"fp: {fp}\")\n",
    "print(f\"tn: {tn}\") \n",
    "print(f\"fn: {fn}\") \n",
    "accuracySvmPoly5 = (tp+tn)/(tp+tn+fp+fn)\n",
    "accuracySvmPoly5"
   ]
  },
  {
   "cell_type": "code",
   "execution_count": null,
   "metadata": {},
   "outputs": [],
   "source": [
    "\\\n"
   ]
  }
 ],
 "metadata": {
  "kernelspec": {
   "display_name": "Python 3",
   "language": "python",
   "name": "python3"
  },
  "language_info": {
   "codemirror_mode": {
    "name": "ipython",
    "version": 3
   },
   "file_extension": ".py",
   "mimetype": "text/x-python",
   "name": "python",
   "nbconvert_exporter": "python",
   "pygments_lexer": "ipython3",
   "version": "3.7.3"
  }
 },
 "nbformat": 4,
 "nbformat_minor": 2
}
