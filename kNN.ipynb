{
 "cells": [
  {
   "cell_type": "code",
   "execution_count": 6,
   "metadata": {},
   "outputs": [],
   "source": [
    "from sklearn.neighbors import KNeighborsClassifier\n",
    "import scipy.io\n",
    "from sklearn import svm\n",
    "import os\n",
    "import pandas as pd\n",
    "import numpy as np\n",
    "from mat4py import loadmat\n",
    "from sklearn import svm \n",
    "from matplotlib.colors import ListedColormap\n",
    "import time \n",
    "from sklearn.metrics import confusion_matrix\n",
    "from sklearn.model_selection import KFold"
   ]
  },
  {
   "cell_type": "code",
   "execution_count": 2,
   "metadata": {},
   "outputs": [],
   "source": [
    "mydir = 'dataset'"
   ]
  },
  {
   "cell_type": "code",
   "execution_count": 3,
   "metadata": {},
   "outputs": [],
   "source": [
    "codeDF = pd.read_csv(os.path.join(mydir, \"S1_code.csv\"), header = None) \n",
    "xDF = pd.read_csv(os.path.join(mydir, \"S1_x.csv\"), header = None) \n",
    "yDF = pd.read_csv(os.path.join(mydir, \"S1_y.csv\"), header = None) "
   ]
  },
  {
   "cell_type": "code",
   "execution_count": 18,
   "metadata": {},
   "outputs": [],
   "source": [
    "x = xDF.to_numpy()\n",
    "y = yDF.to_numpy()\n",
    "code = codeDF.to_numpy()"
   ]
  },
  {
   "cell_type": "code",
   "execution_count": 5,
   "metadata": {},
   "outputs": [],
   "source": [
    "# Create color maps\n",
    "cmap_light = ListedColormap(['orange', 'cyan'])\n",
    "cmap_bold = ListedColormap(['darkorange', 'c'])"
   ]
  },
  {
   "cell_type": "code",
   "execution_count": 6,
   "metadata": {},
   "outputs": [],
   "source": [
    "n_neighbors = 15"
   ]
  },
  {
   "cell_type": "code",
   "execution_count": 7,
   "metadata": {},
   "outputs": [],
   "source": [
    "h = .02  # step size in the mesh"
   ]
  },
  {
   "cell_type": "code",
   "execution_count": 12,
   "metadata": {},
   "outputs": [
    {
     "data": {
      "text/plain": [
       "KNeighborsClassifier(n_neighbors=15)"
      ]
     },
     "execution_count": 12,
     "metadata": {},
     "output_type": "execute_result"
    }
   ],
   "source": [
    "clf = KNeighborsClassifier(n_neighbors)\n",
    "clf.fit(x, y.ravel())"
   ]
  },
  {
   "cell_type": "code",
   "execution_count": 13,
   "metadata": {},
   "outputs": [],
   "source": [
    "#predicting on the same data\n",
    "predictedLabel = clf.predict(x)"
   ]
  },
  {
   "cell_type": "code",
   "execution_count": 14,
   "metadata": {},
   "outputs": [
    {
     "name": "stdout",
     "output_type": "stream",
     "text": [
      "tp: 1\n",
      "fp: 2\n",
      "tn: 2398\n",
      "fn: 479\n"
     ]
    },
    {
     "data": {
      "text/plain": [
       "0.8329861111111111"
      ]
     },
     "execution_count": 14,
     "metadata": {},
     "output_type": "execute_result"
    }
   ],
   "source": [
    "[[tn, fp],[fn, tp]] = confusion_matrix(y.ravel(), predictedLabel )\n",
    "print(f\"tp: {tp}\") \n",
    "print(f\"fp: {fp}\")\n",
    "print(f\"tn: {tn}\") \n",
    "print(f\"fn: {fn}\") \n",
    "accuracy = (tp+tn)/(tp+tn+fp+fn)\n",
    "accuracy"
   ]
  },
  {
   "cell_type": "markdown",
   "metadata": {},
   "source": [
    "### Testing"
   ]
  },
  {
   "cell_type": "code",
   "execution_count": 21,
   "metadata": {},
   "outputs": [],
   "source": [
    "codeNewDF = pd.read_csv(os.path.join(mydir, \"S19_code.csv\"), header = None) \n",
    "xNewDF = pd.read_csv(os.path.join(mydir, \"S19_x.csv\"), header = None) \n",
    "yNewDF = pd.read_csv(os.path.join(mydir, \"S19_y.csv\"), header = None) \n",
    "xNew = xNewDF.to_numpy()\n",
    "yNew = yNewDF.to_numpy()\n",
    "codeNew = codeNewDF.to_numpy()"
   ]
  },
  {
   "cell_type": "code",
   "execution_count": 22,
   "metadata": {},
   "outputs": [
    {
     "data": {
      "text/plain": [
       "array([-1., -1., -1., ..., -1., -1., -1.])"
      ]
     },
     "execution_count": 22,
     "metadata": {},
     "output_type": "execute_result"
    }
   ],
   "source": [
    "clf.predict(xNew)"
   ]
  },
  {
   "cell_type": "code",
   "execution_count": 23,
   "metadata": {},
   "outputs": [
    {
     "name": "stdout",
     "output_type": "stream",
     "text": [
      "tp: 1\n",
      "fp: 2\n",
      "tn: 2398\n",
      "fn: 479\n"
     ]
    },
    {
     "data": {
      "text/plain": [
       "0.8329861111111111"
      ]
     },
     "execution_count": 23,
     "metadata": {},
     "output_type": "execute_result"
    }
   ],
   "source": [
    "[[tn, fp],[fn, tp]] = confusion_matrix(y.ravel(), predictedLabel )\n",
    "print(f\"tp: {tp}\") \n",
    "print(f\"fp: {fp}\")\n",
    "print(f\"tn: {tn}\") \n",
    "print(f\"fn: {fn}\") \n",
    "accuracy = (tp+tn)/(tp+tn+fp+fn)\n",
    "accuracy"
   ]
  },
  {
   "cell_type": "markdown",
   "metadata": {},
   "source": [
    "### Train and test on all 20 subjects"
   ]
  },
  {
   "cell_type": "code",
   "execution_count": 2,
   "metadata": {},
   "outputs": [],
   "source": [
    "mydir = 'combinedDataset'"
   ]
  },
  {
   "cell_type": "code",
   "execution_count": 3,
   "metadata": {},
   "outputs": [],
   "source": [
    "codeDF = pd.read_csv(os.path.join(mydir, \"combinedCode.csv\")) \n",
    "xDF = pd.read_csv(os.path.join(mydir, \"combinedX.csv\")) \n",
    "yDF = pd.read_csv(os.path.join(mydir, \"combinedY.csv\")) \n",
    "x = xDF.to_numpy()\n",
    "y = yDF.to_numpy()\n",
    "code = codeDF.to_numpy()"
   ]
  },
  {
   "cell_type": "code",
   "execution_count": 4,
   "metadata": {},
   "outputs": [],
   "source": [
    "k = 10"
   ]
  },
  {
   "cell_type": "code",
   "execution_count": 7,
   "metadata": {},
   "outputs": [
    {
     "name": "stdout",
     "output_type": "stream",
     "text": [
      "TRAIN: [ 5760  5761  5762 ... 57596 57597 57598] TEST: [   0    1    2 ... 5757 5758 5759]\n",
      "TRAIN: [    0     1     2 ... 57596 57597 57598] TEST: [ 5760  5761  5762 ... 11517 11518 11519]\n",
      "TRAIN: [    0     1     2 ... 57596 57597 57598] TEST: [11520 11521 11522 ... 17277 17278 17279]\n",
      "TRAIN: [    0     1     2 ... 57596 57597 57598] TEST: [17280 17281 17282 ... 23037 23038 23039]\n",
      "TRAIN: [    0     1     2 ... 57596 57597 57598] TEST: [23040 23041 23042 ... 28797 28798 28799]\n",
      "TRAIN: [    0     1     2 ... 57596 57597 57598] TEST: [28800 28801 28802 ... 34557 34558 34559]\n",
      "TRAIN: [    0     1     2 ... 57596 57597 57598] TEST: [34560 34561 34562 ... 40317 40318 40319]\n",
      "TRAIN: [    0     1     2 ... 57596 57597 57598] TEST: [40320 40321 40322 ... 46077 46078 46079]\n",
      "TRAIN: [    0     1     2 ... 57596 57597 57598] TEST: [46080 46081 46082 ... 51837 51838 51839]\n",
      "TRAIN: [    0     1     2 ... 51837 51838 51839] TEST: [51840 51841 51842 ... 57596 57597 57598]\n"
     ]
    }
   ],
   "source": [
    "kf = KFold(n_splits = k, shuffle = False)\n",
    "for train_index, test_index in kf.split(x):\n",
    "    print(\"TRAIN:\", train_index, \"TEST:\", test_index)\n",
    "    xTrain = x[train_index]\n",
    "    xTest = x[test_index]\n",
    "    yTrain = y[train_index]\n",
    "    yTest = y[test_index]\n"
   ]
  },
  {
   "cell_type": "code",
   "execution_count": 28,
   "metadata": {},
   "outputs": [],
   "source": [
    "def TrainKnn(kNeighbours):\n",
    "    start = time.time() \n",
    "    clfKnn = KNeighborsClassifier(kNeighbours)\n",
    "    clfKnn.fit(xTrain, yTrain.ravel())\n",
    "    stop = time.time()\n",
    "    print(f\"Training time: {stop - start}s\")"
   ]
  },
  {
   "cell_type": "code",
   "execution_count": 29,
   "metadata": {},
   "outputs": [],
   "source": [
    "def TestKnn(kNeighbours):\n",
    "    start = time.time()\n",
    "    predictedLabel= clfKnn.predict(xTest)\n",
    "    [[tn, fp],[fn, tp]] = confusion_matrix(yTest.ravel(), predictedLabel)\n",
    "    print(f\"tp: {tp}\") \n",
    "    print(f\"fp: {fp}\")\n",
    "    print(f\"tn: {tn}\") \n",
    "    print(f\"fn: {fn}\") \n",
    "    accuracy = (tp+tn)/(tp+tn+fp+fn)\n",
    "    print(accuracy)\n",
    "    stop = time.time()\n",
    "    print(f\"Testing time: {stop - start}s\")"
   ]
  },
  {
   "cell_type": "code",
   "execution_count": 34,
   "metadata": {},
   "outputs": [
    {
     "name": "stdout",
     "output_type": "stream",
     "text": [
      "Training time: 0.760977029800415s\n"
     ]
    }
   ],
   "source": [
    "TrainKnn(13)"
   ]
  },
  {
   "cell_type": "code",
   "execution_count": 35,
   "metadata": {},
   "outputs": [
    {
     "name": "stdout",
     "output_type": "stream",
     "text": [
      "tp: 938\n",
      "fp: 12\n",
      "tn: 4788\n",
      "fn: 21\n",
      "0.9942698385136308\n",
      "Testing time: 15.11185097694397s\n"
     ]
    }
   ],
   "source": [
    "TestKnn(13)"
   ]
  },
  {
   "cell_type": "code",
   "execution_count": 36,
   "metadata": {},
   "outputs": [
    {
     "name": "stdout",
     "output_type": "stream",
     "text": [
      "tp: 938\n",
      "fp: 12\n",
      "tn: 4788\n",
      "fn: 21\n",
      "0.9942698385136308\n",
      "Testing time: 15.097814083099365s\n"
     ]
    }
   ],
   "source": [
    "start = time.time()\n",
    "predictedLabel= clfKnn.predict(xTest)\n",
    "[[tn, fp],[fn, tp]] = confusion_matrix(yTest.ravel(), predictedLabel)\n",
    "print(f\"tp: {tp}\") \n",
    "print(f\"fp: {fp}\")\n",
    "print(f\"tn: {tn}\") \n",
    "print(f\"fn: {fn}\") \n",
    "accuracy = (tp+tn)/(tp+tn+fp+fn)\n",
    "print(accuracy)\n",
    "stop = time.time()\n",
    "print(f\"Testing time: {stop - start}s\")"
   ]
  },
  {
   "cell_type": "code",
   "execution_count": null,
   "metadata": {},
   "outputs": [],
   "source": []
  }
 ],
 "metadata": {
  "kernelspec": {
   "display_name": "Python 3",
   "language": "python",
   "name": "python3"
  },
  "language_info": {
   "codemirror_mode": {
    "name": "ipython",
    "version": 3
   },
   "file_extension": ".py",
   "mimetype": "text/x-python",
   "name": "python",
   "nbconvert_exporter": "python",
   "pygments_lexer": "ipython3",
   "version": "3.7.3"
  }
 },
 "nbformat": 4,
 "nbformat_minor": 2
}
