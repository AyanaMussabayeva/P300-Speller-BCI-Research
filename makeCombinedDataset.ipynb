{
 "cells": [
  {
   "cell_type": "code",
   "execution_count": 6,
   "metadata": {},
   "outputs": [],
   "source": [
    "import pandas as pd\n",
    "import os\n",
    "import n"
   ]
  },
  {
   "cell_type": "code",
   "execution_count": 3,
   "metadata": {},
   "outputs": [],
   "source": [
    "mydir = 'dataset'"
   ]
  },
  {
   "cell_type": "code",
   "execution_count": 29,
   "metadata": {},
   "outputs": [],
   "source": [
    "yData = []\n",
    "yFiles = []"
   ]
  },
  {
   "cell_type": "code",
   "execution_count": 50,
   "metadata": {},
   "outputs": [],
   "source": [
    "#combined_csv = pd.concat( [ pd.read_csv(f) for f in filenames ] )\n",
    "def makeYFile(mydir):\n",
    "    yFiles = []\n",
    "    for fname in os.listdir(mydir):\n",
    "        fpath = os.path.join(mydir, fname)\n",
    "        #print(fpath)\n",
    "        if(\"_y\" in fpath):\n",
    "            #print(fpath)\n",
    "            yFiles.append(fpath)\n",
    "    yFiles = sorted(yFiles)\n",
    "    combinedY = pd.concat([pd.read_csv(f, header = None) for f in yFiles]) \n",
    "    return combinedY\n",
    "   "
   ]
  },
  {
   "cell_type": "code",
   "execution_count": 62,
   "metadata": {},
   "outputs": [],
   "source": [
    "def makeXFile(mydir):\n",
    "    xFiles = []\n",
    "    for fname in os.listdir(mydir):\n",
    "        fpath = os.path.join(mydir, fname)\n",
    "        #print(fpath)\n",
    "        if(\"_x\" in fpath):\n",
    "            #print(fpath)\n",
    "            xFiles.append(fpath)\n",
    "    xFiles = sorted(xFiles)\n",
    "    print(xFiles)\n",
    "    combinedX = pd.concat([pd.read_csv(f, header = None) for f in xFiles]) \n",
    "    return combinedX"
   ]
  },
  {
   "cell_type": "code",
   "execution_count": 64,
   "metadata": {},
   "outputs": [],
   "source": [
    "def makeCodeFile(mydir):\n",
    "    codeFiles = []\n",
    "    for fname in os.listdir(mydir):\n",
    "        fpath = os.path.join(mydir, fname)\n",
    "        #print(fpath)\n",
    "        if(\"_code\" in fpath):\n",
    "            #print(fpath)\n",
    "            codeFiles.append(fpath)\n",
    "    codeFiles = sorted(codeFiles)\n",
    "    print(codeFiles)\n",
    "    combinedCode = pd.concat([pd.read_csv(f, header = None) for f in codeFiles]) \n",
    "    return combinedCode"
   ]
  },
  {
   "cell_type": "code",
   "execution_count": 58,
   "metadata": {},
   "outputs": [],
   "source": [
    "y = makeYFile('dataset')"
   ]
  },
  {
   "cell_type": "code",
   "execution_count": 63,
   "metadata": {},
   "outputs": [
    {
     "name": "stdout",
     "output_type": "stream",
     "text": [
      "['dataset/S10_x.csv', 'dataset/S11_x.csv', 'dataset/S12_x.csv', 'dataset/S13_x.csv', 'dataset/S14_x.csv', 'dataset/S15_x.csv', 'dataset/S16_x.csv', 'dataset/S17_x.csv', 'dataset/S18_x.csv', 'dataset/S19_x.csv', 'dataset/S1_x.csv', 'dataset/S20_x.csv', 'dataset/S2_x.csv', 'dataset/S3_x.csv', 'dataset/S4_x.csv', 'dataset/S5_x.csv', 'dataset/S6_x.csv', 'dataset/S7_x.csv', 'dataset/S8_x.csv', 'dataset/S9_x.csv']\n"
     ]
    }
   ],
   "source": [
    "x = makeXFile('dataset')"
   ]
  },
  {
   "cell_type": "code",
   "execution_count": 65,
   "metadata": {},
   "outputs": [
    {
     "name": "stdout",
     "output_type": "stream",
     "text": [
      "['dataset/S10_code.csv', 'dataset/S11_code.csv', 'dataset/S12_code.csv', 'dataset/S13_code.csv', 'dataset/S14_code.csv', 'dataset/S15_code.csv', 'dataset/S16_code.csv', 'dataset/S17_code.csv', 'dataset/S18_code.csv', 'dataset/S19_code.csv', 'dataset/S1_code.csv', 'dataset/S20_code.csv', 'dataset/S2_code.csv', 'dataset/S3_code.csv', 'dataset/S4_code.csv', 'dataset/S5_code.csv', 'dataset/S6_code.csv', 'dataset/S7_code.csv', 'dataset/S8_code.csv', 'dataset/S9_code.csv']\n"
     ]
    }
   ],
   "source": [
    "code = makeCodeFile('dataset')"
   ]
  },
  {
   "cell_type": "code",
   "execution_count": 54,
   "metadata": {},
   "outputs": [],
   "source": [
    "y.to_csv('combinedY.csv')"
   ]
  },
  {
   "cell_type": "code",
   "execution_count": 61,
   "metadata": {},
   "outputs": [],
   "source": [
    "x.to_csv('combinedX.csv')"
   ]
  },
  {
   "cell_type": "code",
   "execution_count": 66,
   "metadata": {},
   "outputs": [],
   "source": [
    "code.to_csv('combinedCode.csv')"
   ]
  },
  {
   "cell_type": "code",
   "execution_count": null,
   "metadata": {},
   "outputs": [],
   "source": []
  }
 ],
 "metadata": {
  "kernelspec": {
   "display_name": "Python 3",
   "language": "python",
   "name": "python3"
  },
  "language_info": {
   "codemirror_mode": {
    "name": "ipython",
    "version": 3
   },
   "file_extension": ".py",
   "mimetype": "text/x-python",
   "name": "python",
   "nbconvert_exporter": "python",
   "pygments_lexer": "ipython3",
   "version": "3.7.3"
  }
 },
 "nbformat": 4,
 "nbformat_minor": 2
}
