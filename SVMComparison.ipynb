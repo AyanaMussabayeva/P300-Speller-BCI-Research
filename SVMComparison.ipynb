{
 "cells": [
  {
   "cell_type": "code",
   "execution_count": 2,
   "metadata": {},
   "outputs": [],
   "source": [
    "import scipy.io\n",
    "from sklearn import svm\n",
    "import os\n",
    "import pandas as pd\n",
    "import numpy as np\n",
    "from mat4py import loadmat\n",
    "from sklearn import svm \n",
    "from matplotlib.colors import ListedColormap\n",
    "import time \n",
    "from sklearn.metrics import confusion_matrix\n",
    "from sklearn.model_selection import KFold"
   ]
  },
  {
   "cell_type": "code",
   "execution_count": 3,
   "metadata": {},
   "outputs": [],
   "source": [
    "mydir = 'combinedDataset'"
   ]
  },
  {
   "cell_type": "code",
   "execution_count": 4,
   "metadata": {},
   "outputs": [],
   "source": [
    "codeDF = pd.read_csv(os.path.join(mydir, \"combinedCode.csv\")) \n",
    "xDF = pd.read_csv(os.path.join(mydir, \"combinedX.csv\")) \n",
    "yDF = pd.read_csv(os.path.join(mydir, \"combinedY.csv\")) \n",
    "x = xDF.to_numpy()\n",
    "y = yDF.to_numpy()\n",
    "code = codeDF.to_numpy()"
   ]
  },
  {
   "cell_type": "code",
   "execution_count": 19,
   "metadata": {},
   "outputs": [
    {
     "name": "stdout",
     "output_type": "stream",
     "text": [
      "TRAIN: [ 5760  5761  5762 ... 57596 57597 57598] TEST: [   0    1    2 ... 5757 5758 5759]\n",
      "TRAIN: [    0     1     2 ... 57596 57597 57598] TEST: [ 5760  5761  5762 ... 11517 11518 11519]\n",
      "TRAIN: [    0     1     2 ... 57596 57597 57598] TEST: [11520 11521 11522 ... 17277 17278 17279]\n",
      "TRAIN: [    0     1     2 ... 57596 57597 57598] TEST: [17280 17281 17282 ... 23037 23038 23039]\n",
      "TRAIN: [    0     1     2 ... 57596 57597 57598] TEST: [23040 23041 23042 ... 28797 28798 28799]\n",
      "TRAIN: [    0     1     2 ... 57596 57597 57598] TEST: [28800 28801 28802 ... 34557 34558 34559]\n",
      "TRAIN: [    0     1     2 ... 57596 57597 57598] TEST: [34560 34561 34562 ... 40317 40318 40319]\n",
      "TRAIN: [    0     1     2 ... 57596 57597 57598] TEST: [40320 40321 40322 ... 46077 46078 46079]\n",
      "TRAIN: [    0     1     2 ... 57596 57597 57598] TEST: [46080 46081 46082 ... 51837 51838 51839]\n",
      "TRAIN: [    0     1     2 ... 51837 51838 51839] TEST: [51840 51841 51842 ... 57596 57597 57598]\n"
     ]
    }
   ],
   "source": [
    "k = 10\n",
    "kf = KFold(n_splits = k, shuffle = False)\n",
    "for train_index, test_index in kf.split(x):\n",
    "    print(\"TRAIN:\", train_index, \"TEST:\", test_index)\n",
    "    xTrain = x[train_index]\n",
    "    xTest = x[test_index]\n",
    "    yTrain = y[train_index]\n",
    "    yTest = y[test_index]"
   ]
  },
  {
   "cell_type": "code",
   "execution_count": 6,
   "metadata": {},
   "outputs": [],
   "source": [
    "def trainSVM(kernelType, d): \n",
    "    start = time.time() \n",
    "    mysvm = svm.SVC(kernel=kernelType, degree = d)\n",
    "    mysvm.fit(x, y.values.ravel())\n",
    "    stop = time.time()\n",
    "    print(f\"Training time: {stop - start}s\")"
   ]
  },
  {
   "cell_type": "code",
   "execution_count": 7,
   "metadata": {},
   "outputs": [],
   "source": [
    "def trainSVM(): \n",
    "    start = time.time() \n",
    "    mysvm = svm.SVC()\n",
    "    mysvm.fit(x, y.ravel())\n",
    "    stop = time.time()\n",
    "    print(f\"Training time: {stop - start}s\")"
   ]
  },
  {
   "cell_type": "code",
   "execution_count": 22,
   "metadata": {},
   "outputs": [],
   "source": [
    "def trainAndTestSVM():\n",
    "    start = time.time() \n",
    "    mysvm = svm.SVC()\n",
    "    mysvm.fit(xTrain, yTrain.ravel())\n",
    "    stop = time.time()\n",
    "    print(f\"Training time: {stop - start}s\")\n",
    "    \n",
    "    start = time.time() \n",
    "    predictedSVM = mysvm.predict(xTest)\n",
    "    [[tn, fp],[fn, tp]] = confusion_matrix(yTest.ravel(), predictedSVM)\n",
    "    print(f\"tp: {tp}\") \n",
    "    print(f\"fp: {fp}\")\n",
    "    print(f\"tn: {tn}\") \n",
    "    print(f\"fn: {fn}\") \n",
    "    accuracySVM = (tp+tn)/(tp+tn+fp+fn)\n",
    "    print(accuracySVM)\n",
    "    stop = time.time()\n",
    "    print(f\"Testing time: {stop - start}s\")"
   ]
  },
  {
   "cell_type": "code",
   "execution_count": 24,
   "metadata": {},
   "outputs": [],
   "source": [
    "def trainAndTestSVM(kernelType, d):\n",
    "    start = time.time() \n",
    "    mysvm = svm.SVC(kernel=kernelType, degree = d)\n",
    "    mysvm.fit(xTrain, yTrain.ravel())\n",
    "    stop = time.time()\n",
    "    print(f\"Training time: {stop - start}s\")\n",
    "    \n",
    "    start = time.time() \n",
    "    predictedSVM = mysvm.predict(xTest)\n",
    "    [[tn, fp],[fn, tp]] = confusion_matrix(yTest.ravel(), predictedSVM)\n",
    "    print(f\"tp: {tp}\") \n",
    "    print(f\"fp: {fp}\")\n",
    "    print(f\"tn: {tn}\") \n",
    "    print(f\"fn: {fn}\") \n",
    "    accuracySVM = (tp+tn)/(tp+tn+fp+fn)\n",
    "    print(accuracySVM)\n",
    "    stop = time.time()\n",
    "    print(f\"Testing time: {stop - start}s\")"
   ]
  },
  {
   "cell_type": "code",
   "execution_count": 31,
   "metadata": {},
   "outputs": [],
   "source": [
    "def trainAndTestSVM(kernelType):\n",
    "    start = time.time() \n",
    "    mysvm = svm.SVC(kernel=kernelType)\n",
    "    mysvm.fit(xTrain, yTrain.ravel())\n",
    "    stop = time.time()\n",
    "    print(f\"Training time: {stop - start}s\")\n",
    "    \n",
    "    start = time.time() \n",
    "    predictedSVM = mysvm.predict(xTest)\n",
    "    [[tn, fp],[fn, tp]] = confusion_matrix(yTest.ravel(), predictedSVM)\n",
    "    print(f\"tp: {tp}\") \n",
    "    print(f\"fp: {fp}\")\n",
    "    print(f\"tn: {tn}\") \n",
    "    print(f\"fn: {fn}\") \n",
    "    accuracySVM = (tp+tn)/(tp+tn+fp+fn)\n",
    "    print(accuracySVM)\n",
    "    stop = time.time()\n",
    "    print(f\"Testing time: {stop - start}s\")"
   ]
  },
  {
   "cell_type": "markdown",
   "metadata": {},
   "source": [
    "### Default radial basis kernel function"
   ]
  },
  {
   "cell_type": "code",
   "execution_count": 23,
   "metadata": {},
   "outputs": [
    {
     "name": "stdout",
     "output_type": "stream",
     "text": [
      "Training time: 247.028981924057s\n",
      "tp: 370\n",
      "fp: 16\n",
      "tn: 4784\n",
      "fn: 589\n",
      "0.8949470394165654\n",
      "Testing time: 15.643149137496948s\n"
     ]
    }
   ],
   "source": [
    "trainAndTestSVM()"
   ]
  },
  {
   "cell_type": "code",
   "execution_count": 25,
   "metadata": {},
   "outputs": [
    {
     "name": "stdout",
     "output_type": "stream",
     "text": [
      "Training time: 364.2660596370697s\n",
      "tp: 30\n",
      "fp: 0\n",
      "tn: 4800\n",
      "fn: 929\n",
      "0.8386872720958499\n",
      "Testing time: 13.042511224746704s\n"
     ]
    }
   ],
   "source": [
    "trainAndTestSVM('poly', 2)"
   ]
  },
  {
   "cell_type": "code",
   "execution_count": 26,
   "metadata": {},
   "outputs": [
    {
     "name": "stdout",
     "output_type": "stream",
     "text": [
      "Training time: 470.9549391269684s\n",
      "tp: 133\n",
      "fp: 0\n",
      "tn: 4800\n",
      "fn: 826\n",
      "0.8565723215836083\n",
      "Testing time: 13.893996000289917s\n"
     ]
    }
   ],
   "source": [
    "trainAndTestSVM('poly', 3)"
   ]
  },
  {
   "cell_type": "code",
   "execution_count": 28,
   "metadata": {},
   "outputs": [
    {
     "name": "stdout",
     "output_type": "stream",
     "text": [
      "Training time: 421.2433121204376s\n",
      "tp: 131\n",
      "fp: 0\n",
      "tn: 4800\n",
      "fn: 828\n",
      "0.8562250390692828\n",
      "Testing time: 11.810282945632935s\n"
     ]
    }
   ],
   "source": [
    "trainAndTestSVM('poly', 5)"
   ]
  },
  {
   "cell_type": "code",
   "execution_count": 17,
   "metadata": {},
   "outputs": [
    {
     "data": {
      "text/plain": [
       "67.45833333333333"
      ]
     },
     "execution_count": 17,
     "metadata": {},
     "output_type": "execute_result"
    }
   ],
   "source": [
    " 4047.50/60"
   ]
  },
  {
   "cell_type": "code",
   "execution_count": 29,
   "metadata": {},
   "outputs": [
    {
     "name": "stdout",
     "output_type": "stream",
     "text": [
      "Training time: 520.1800577640533s\n",
      "tp: 129\n",
      "fp: 2\n",
      "tn: 4798\n",
      "fn: 830\n",
      "0.8555304740406321\n",
      "Testing time: 11.793874263763428s\n"
     ]
    }
   ],
   "source": [
    "trainAndTestSVM('poly', 6)"
   ]
  },
  {
   "cell_type": "code",
   "execution_count": 27,
   "metadata": {},
   "outputs": [
    {
     "name": "stdout",
     "output_type": "stream",
     "text": [
      "Training time: 439.7169830799103s\n",
      "tp: 131\n",
      "fp: 0\n",
      "tn: 4800\n",
      "fn: 828\n",
      "0.8562250390692828\n",
      "Testing time: 14.312368869781494s\n"
     ]
    }
   ],
   "source": [
    "trainAndTestSVM('poly', 4)"
   ]
  },
  {
   "cell_type": "code",
   "execution_count": 30,
   "metadata": {},
   "outputs": [
    {
     "name": "stdout",
     "output_type": "stream",
     "text": [
      "Training time: 172.46740412712097s\n",
      "tp: 162\n",
      "fp: 754\n",
      "tn: 4046\n",
      "fn: 797\n",
      "0.7306824101406494\n",
      "Testing time: 12.41640591621399s\n"
     ]
    }
   ],
   "source": [
    "trainAndTestSVM('sigmoid', 1)"
   ]
  },
  {
   "cell_type": "code",
   "execution_count": null,
   "metadata": {},
   "outputs": [],
   "source": [
    "trainAndTestSVM('linear')"
   ]
  },
  {
   "cell_type": "code",
   "execution_count": null,
   "metadata": {},
   "outputs": [],
   "source": []
  }
 ],
 "metadata": {
  "kernelspec": {
   "display_name": "Python 3",
   "language": "python",
   "name": "python3"
  },
  "language_info": {
   "codemirror_mode": {
    "name": "ipython",
    "version": 3
   },
   "file_extension": ".py",
   "mimetype": "text/x-python",
   "name": "python",
   "nbconvert_exporter": "python",
   "pygments_lexer": "ipython3",
   "version": "3.7.3"
  }
 },
 "nbformat": 4,
 "nbformat_minor": 2
}
